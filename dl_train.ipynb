{
 "cells": [
  {
   "cell_type": "markdown",
   "metadata": {},
   "source": [
    "## Multi-label Classification"
   ]
  },
  {
   "cell_type": "markdown",
   "metadata": {},
   "source": [
    "### Imports"
   ]
  },
  {
   "cell_type": "code",
   "execution_count": 1,
   "metadata": {},
   "outputs": [],
   "source": [
    "import pandas as pd\n",
    "import tensorflow as tf"
   ]
  },
  {
   "cell_type": "markdown",
   "metadata": {},
   "source": [
    "### Training (on raw dataset)"
   ]
  },
  {
   "cell_type": "code",
   "execution_count": 2,
   "metadata": {},
   "outputs": [
    {
     "name": "stdout",
     "output_type": "stream",
     "text": [
      "Metal device set to: Apple M1\n",
      "\n",
      "systemMemory: 8.00 GB\n",
      "maxCacheSize: 2.67 GB\n",
      "\n"
     ]
    },
    {
     "name": "stderr",
     "output_type": "stream",
     "text": [
      "2022-12-04 11:34:11.396264: I tensorflow/core/common_runtime/pluggable_device/pluggable_device_factory.cc:305] Could not identify NUMA node of platform GPU ID 0, defaulting to 0. Your kernel may not have been built with NUMA support.\n",
      "2022-12-04 11:34:11.396416: I tensorflow/core/common_runtime/pluggable_device/pluggable_device_factory.cc:271] Created TensorFlow device (/job:localhost/replica:0/task:0/device:GPU:0 with 0 MB memory) -> physical PluggableDevice (device: 0, name: METAL, pci bus id: <undefined>)\n",
      "2022-12-04 11:34:11.618281: W tensorflow/core/platform/profile_utils/cpu_utils.cc:128] Failed to get CPU frequency: 0 Hz\n",
      "2022-12-04 11:34:12.529504: I tensorflow/core/grappler/optimizers/custom_graph_optimizer_registry.cc:113] Plugin optimizer for device_type GPU is enabled.\n",
      "2022-12-04 11:34:13.985982: I tensorflow/core/grappler/optimizers/custom_graph_optimizer_registry.cc:113] Plugin optimizer for device_type GPU is enabled.\n"
     ]
    }
   ],
   "source": [
    "train = pd.read_csv(\"data_processed.csv\")\n",
    "\n",
    "features = ['age', 'admissionheight', 'admissionweight', 'hospitalid', 'patientunitstayid', 'intubated', 'vent', 'dialysis', \n",
    "'eyes', 'motor', 'verbal', 'apachepatientresultsid', 'acutephysiologyscore', 'apachescore', 'actualiculos', 'actualhospitallos', \n",
    "'ptcawithin24h', 'unabridgedunitlos', 'unabridgedhosplos', 'gender_Female', 'gender_Male', 'ethnicity_African American', \n",
    "'ethnicity_Asian', 'ethnicity_Caucasian', 'ethnicity_Hispanic', 'ethnicity_Native American', 'ethnicity_Other/Unknown', \n",
    "'actualhospitalmortality_ALIVE', 'actualhospitalmortality_EXPIRED']\n",
    "targets = ['heart_problems', 'lung_problem', 'lung_infection', 'kidney_problems']\n",
    "\n",
    "x_train = train.loc[:, features].to_numpy()\n",
    "y_train = train.loc[:, targets].to_numpy()\n",
    "\n",
    "\n",
    "model = tf.keras.models.Sequential([tf.keras.layers.Dense(4, activation=tf.nn.relu),\n",
    "                                    tf.keras.layers.Dense(4, activation=tf.nn.sigmoid)])\n",
    "\n",
    "m = ['accuracy', tf.keras.metrics.Precision(), tf.keras.metrics.Recall(), tf.keras.metrics.FalseNegatives(), \n",
    "tf.keras.metrics.FalsePositives(), tf.keras.metrics.TrueNegatives(), tf.keras.metrics.TruePositives()]\n",
    "model.compile(loss='binary_crossentropy', optimizer='adam', metrics=m)\n",
    "history_1 = model.fit(x_train, y_train, validation_split=0.3, epochs=10, verbose=0)"
   ]
  },
  {
   "cell_type": "markdown",
   "metadata": {},
   "source": [
    "### Training (on processed dataset)"
   ]
  },
  {
   "cell_type": "code",
   "execution_count": 3,
   "metadata": {},
   "outputs": [
    {
     "name": "stderr",
     "output_type": "stream",
     "text": [
      "2022-12-04 11:34:22.601759: I tensorflow/core/grappler/optimizers/custom_graph_optimizer_registry.cc:113] Plugin optimizer for device_type GPU is enabled.\n",
      "2022-12-04 11:34:23.955811: I tensorflow/core/grappler/optimizers/custom_graph_optimizer_registry.cc:113] Plugin optimizer for device_type GPU is enabled.\n"
     ]
    }
   ],
   "source": [
    "df1 = pd.read_csv(\"data_processed.csv\")\n",
    "df2 = pd.read_csv(\"engineered_features.csv\")\n",
    "dataset = df1.merge(df2, right_on=\"patientunitstayid\", left_on=\"patientunitstayid\")\n",
    "\n",
    "features = ['age', 'admissionheight', 'admissionweight', 'hospitalid',\n",
    "       'patientunitstayid', 'intubated', 'vent', 'dialysis', 'eyes', 'motor',\n",
    "       'verbal', 'apachepatientresultsid', 'acutephysiologyscore',\n",
    "       'apachescore', 'actualiculos', 'actualhospitallos', 'ptcawithin24h',\n",
    "       'unabridgedunitlos', 'unabridgedhosplos',  'gender_Female',\n",
    "       'gender_Male', 'ethnicity_African American', 'ethnicity_Asian',\n",
    "       'ethnicity_Caucasian', 'ethnicity_Hispanic',\n",
    "       'ethnicity_Native American', 'ethnicity_Other/Unknown',\n",
    "       'actualhospitalmortality_ALIVE', 'actualhospitalmortality_EXPIRED',\n",
    "       'creatinine_comparison', 'bun_comparison', 'bun_creatinine_comparison',\n",
    "       'calcium_comparison', 'hco3_comparison', 'phosphate_comparison',\n",
    "       'glucose_comparison', 'potassium_comparison', 'magnesium_comparison',\n",
    "       'sodium_comparison', 'chloride_comparison', 'paCO2_comparison',\n",
    "       'paO2_comparison']\n",
    "targets = ['heart_problems', 'lung_problem', 'lung_infection', 'kidney_problems']\n",
    "\n",
    "x_train = dataset.loc[:, features].to_numpy()\n",
    "y_train = dataset.loc[:, targets].to_numpy()\n",
    "\n",
    "\n",
    "model = tf.keras.models.Sequential([tf.keras.layers.Dense(4, activation=tf.nn.relu),\n",
    "                                    tf.keras.layers.Dense(4, activation=tf.nn.sigmoid)])\n",
    "\n",
    "m = ['accuracy', tf.keras.metrics.Precision(), tf.keras.metrics.Recall(), tf.keras.metrics.FalseNegatives(), \n",
    "tf.keras.metrics.FalsePositives(), tf.keras.metrics.TrueNegatives(), tf.keras.metrics.TruePositives()]\n",
    "model.compile(loss='binary_crossentropy', optimizer='adam', metrics=m)\n",
    "history_2 = model.fit(x_train, y_train, validation_split=0.3, epochs=10, verbose=0)"
   ]
  },
  {
   "cell_type": "markdown",
   "metadata": {},
   "source": [
    "### Scores (accuracy, precision, recall, sensitivity, specitivity)"
   ]
  },
  {
   "cell_type": "code",
   "execution_count": 6,
   "metadata": {},
   "outputs": [],
   "source": [
    "his_1 = pd.DataFrame(history_1.history)\n",
    "his_2 = pd.DataFrame(history_2.history)"
   ]
  },
  {
   "cell_type": "code",
   "execution_count": 12,
   "metadata": {},
   "outputs": [],
   "source": [
    "def get_sens(tp, fn):\n",
    "    return [tp/(tp+fn)]\n",
    "def get_spec(tn, fp):\n",
    "    return [tn/(tn+fp)]\n",
    "\n",
    "normal_ds_train = pd.DataFrame({\"accuracy\":[0.969722],\"precision\":[0.729184],\"recall\":[0.665388],\"sensitivity\":get_sens(867.0,436.0),\n",
    "                    \"specificity\":get_spec(3131.0,322.0)})\n",
    "normal_ds_val = pd.DataFrame({\"accuracy\":[0.954902],\"precision\":[0.739216],\"recall\":[0.612013],\"sensitivity\":get_sens(377.0,239.0),\n",
    "                    \"specificity\":get_spec(1291.0,133.0),})\n",
    "\n",
    "engineered_ds_train = pd.DataFrame({\"accuracy\":[0.969388],\"precision\":[0.727891],\"recall\":[0.663566],\"sensitivity\":get_sens(856.0,434.0),\n",
    "                    \"specificity\":get_spec(3094.0,320.0),})\n",
    "engineered_ds_val = pd.DataFrame({\"accuracy\":[0.956436],\"precision\":[0.740594],\"recall\":[0.612111],\"sensitivity\":get_sens(374.0,237.0),\n",
    "                    \"specificity\":get_spec(1278.0,131.0),})"
   ]
  },
  {
   "cell_type": "code",
   "execution_count": 25,
   "metadata": {},
   "outputs": [
    {
     "data": {
      "text/html": [
       "<style type=\"text/css\">\n",
       "</style>\n",
       "<table id=\"T_e9083\">\n",
       "  <thead>\n",
       "    <tr>\n",
       "      <th id=\"T_e9083_level0_col0\" class=\"col_heading level0 col0\" >name</th>\n",
       "      <th id=\"T_e9083_level0_col1\" class=\"col_heading level0 col1\" >accuracy</th>\n",
       "      <th id=\"T_e9083_level0_col2\" class=\"col_heading level0 col2\" >precision</th>\n",
       "      <th id=\"T_e9083_level0_col3\" class=\"col_heading level0 col3\" >recall</th>\n",
       "      <th id=\"T_e9083_level0_col4\" class=\"col_heading level0 col4\" >sensitivity</th>\n",
       "      <th id=\"T_e9083_level0_col5\" class=\"col_heading level0 col5\" >specificity</th>\n",
       "    </tr>\n",
       "  </thead>\n",
       "  <tbody>\n",
       "    <tr>\n",
       "      <td id=\"T_e9083_row0_col0\" class=\"data row0 col0\" >Normal (train)</td>\n",
       "      <td id=\"T_e9083_row0_col1\" class=\"data row0 col1\" >0.969722</td>\n",
       "      <td id=\"T_e9083_row0_col2\" class=\"data row0 col2\" >0.729184</td>\n",
       "      <td id=\"T_e9083_row0_col3\" class=\"data row0 col3\" >0.665388</td>\n",
       "      <td id=\"T_e9083_row0_col4\" class=\"data row0 col4\" >0.665388</td>\n",
       "      <td id=\"T_e9083_row0_col5\" class=\"data row0 col5\" >0.906748</td>\n",
       "    </tr>\n",
       "    <tr>\n",
       "      <td id=\"T_e9083_row1_col0\" class=\"data row1 col0\" >Normal (test)</td>\n",
       "      <td id=\"T_e9083_row1_col1\" class=\"data row1 col1\" >0.954902</td>\n",
       "      <td id=\"T_e9083_row1_col2\" class=\"data row1 col2\" >0.739216</td>\n",
       "      <td id=\"T_e9083_row1_col3\" class=\"data row1 col3\" >0.612013</td>\n",
       "      <td id=\"T_e9083_row1_col4\" class=\"data row1 col4\" >0.612013</td>\n",
       "      <td id=\"T_e9083_row1_col5\" class=\"data row1 col5\" >0.906601</td>\n",
       "    </tr>\n",
       "    <tr>\n",
       "      <td id=\"T_e9083_row2_col0\" class=\"data row2 col0\" >Engineered (train)</td>\n",
       "      <td id=\"T_e9083_row2_col1\" class=\"data row2 col1\" >0.969388</td>\n",
       "      <td id=\"T_e9083_row2_col2\" class=\"data row2 col2\" >0.727891</td>\n",
       "      <td id=\"T_e9083_row2_col3\" class=\"data row2 col3\" >0.663566</td>\n",
       "      <td id=\"T_e9083_row2_col4\" class=\"data row2 col4\" >0.663566</td>\n",
       "      <td id=\"T_e9083_row2_col5\" class=\"data row2 col5\" >0.906268</td>\n",
       "    </tr>\n",
       "    <tr>\n",
       "      <td id=\"T_e9083_row3_col0\" class=\"data row3 col0\" >Engineered (test)</td>\n",
       "      <td id=\"T_e9083_row3_col1\" class=\"data row3 col1\" >0.956436</td>\n",
       "      <td id=\"T_e9083_row3_col2\" class=\"data row3 col2\" >0.740594</td>\n",
       "      <td id=\"T_e9083_row3_col3\" class=\"data row3 col3\" >0.612111</td>\n",
       "      <td id=\"T_e9083_row3_col4\" class=\"data row3 col4\" >0.612111</td>\n",
       "      <td id=\"T_e9083_row3_col5\" class=\"data row3 col5\" >0.907026</td>\n",
       "    </tr>\n",
       "  </tbody>\n",
       "</table>\n"
      ],
      "text/plain": [
       "<pandas.io.formats.style.Styler at 0x291bd7400>"
      ]
     },
     "execution_count": 25,
     "metadata": {},
     "output_type": "execute_result"
    }
   ],
   "source": [
    "info = pd.DataFrame()\n",
    "info = pd.concat([normal_ds_train, normal_ds_val, engineered_ds_train, engineered_ds_val], axis=0)\n",
    "info[\"name\"] = [\"Normal (train)\", \"Normal (test)\", \"Engineered (train)\", \"Engineered (test)\"]\n",
    "info.insert(0, 'name', info.pop('name'))\n",
    "# info.to_csv(\"scores.csv\", index=False)\n",
    "info.style.hide(axis='index')"
   ]
  }
 ],
 "metadata": {
  "kernelspec": {
   "display_name": "Python 3.9.13 64-bit",
   "language": "python",
   "name": "python3"
  },
  "language_info": {
   "codemirror_mode": {
    "name": "ipython",
    "version": 3
   },
   "file_extension": ".py",
   "mimetype": "text/x-python",
   "name": "python",
   "nbconvert_exporter": "python",
   "pygments_lexer": "ipython3",
   "version": "3.9.13"
  },
  "orig_nbformat": 4,
  "vscode": {
   "interpreter": {
    "hash": "8671d0fe3e20ec0f790d8192a8c0fa50db0171d319e71d5fc99d295fbc3483c4"
   }
  }
 },
 "nbformat": 4,
 "nbformat_minor": 2
}
